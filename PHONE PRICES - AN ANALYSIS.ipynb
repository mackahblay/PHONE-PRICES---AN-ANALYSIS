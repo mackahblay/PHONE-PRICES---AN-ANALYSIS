{
 "cells": [
  {
   "cell_type": "markdown",
   "id": "734ee9cd-b07a-483e-a652-718bf8979f61",
   "metadata": {},
   "source": [
    "### Melchizedek Ackah-Blay\n",
    "\n",
    "December 10, 2024\n",
    "\n",
    "**Phone Prices - An Analysis**"
   ]
  },
  {
   "cell_type": "markdown",
   "id": "17445b36-4874-45fc-9324-fed2aae8a3a5",
   "metadata": {},
   "source": [
    "*load libraries*"
   ]
  },
  {
   "cell_type": "code",
   "execution_count": 20,
   "id": "570fcc75-10d0-4e0c-8507-64223e4fac43",
   "metadata": {},
   "outputs": [],
   "source": [
    "import pandas as pd\n",
    "import numpy as np\n",
    "import matplotlib.pyplot as plt\n",
    "import matplotlib.style as style\n",
    "style.use('ggplot')\n",
    "import seaborn as sns\n",
    "\n",
    "import warnings as w\n",
    "w.filterwarnings('ignore')"
   ]
  },
  {
   "cell_type": "markdown",
   "id": "7b489659-9b0c-484e-a359-2374d2848031",
   "metadata": {},
   "source": [
    "*loading dataset*"
   ]
  },
  {
   "cell_type": "code",
   "execution_count": 2,
   "id": "874ff9d0-5331-4c12-ac66-920a94547572",
   "metadata": {},
   "outputs": [],
   "source": [
    "df = pd.read_csv(r'/Users/melki/Desktop/Cellphone.csv')"
   ]
  },
  {
   "cell_type": "markdown",
   "id": "f095344a-97a1-44b5-b0c0-a31e7b69fa3a",
   "metadata": {},
   "source": [
    "*looking at sample data*"
   ]
  },
  {
   "cell_type": "code",
   "execution_count": 3,
   "id": "38b1081f-d61a-4a09-b01e-dcc046473b95",
   "metadata": {},
   "outputs": [
    {
     "data": {
      "text/html": [
       "<div>\n",
       "<style scoped>\n",
       "    .dataframe tbody tr th:only-of-type {\n",
       "        vertical-align: middle;\n",
       "    }\n",
       "\n",
       "    .dataframe tbody tr th {\n",
       "        vertical-align: top;\n",
       "    }\n",
       "\n",
       "    .dataframe thead th {\n",
       "        text-align: right;\n",
       "    }\n",
       "</style>\n",
       "<table border=\"1\" class=\"dataframe\">\n",
       "  <thead>\n",
       "    <tr style=\"text-align: right;\">\n",
       "      <th></th>\n",
       "      <th>Product_id</th>\n",
       "      <th>Price</th>\n",
       "      <th>Sale</th>\n",
       "      <th>weight</th>\n",
       "      <th>resoloution</th>\n",
       "      <th>ppi</th>\n",
       "      <th>cpu core</th>\n",
       "      <th>cpu freq</th>\n",
       "      <th>internal mem</th>\n",
       "      <th>ram</th>\n",
       "      <th>RearCam</th>\n",
       "      <th>Front_Cam</th>\n",
       "      <th>battery</th>\n",
       "      <th>thickness</th>\n",
       "    </tr>\n",
       "  </thead>\n",
       "  <tbody>\n",
       "    <tr>\n",
       "      <th>89</th>\n",
       "      <td>763</td>\n",
       "      <td>1302</td>\n",
       "      <td>140</td>\n",
       "      <td>127.9</td>\n",
       "      <td>4.0</td>\n",
       "      <td>235</td>\n",
       "      <td>2</td>\n",
       "      <td>1.2</td>\n",
       "      <td>8.000</td>\n",
       "      <td>1.000</td>\n",
       "      <td>2.0</td>\n",
       "      <td>0.0</td>\n",
       "      <td>1500</td>\n",
       "      <td>10.6</td>\n",
       "    </tr>\n",
       "    <tr>\n",
       "      <th>110</th>\n",
       "      <td>64</td>\n",
       "      <td>754</td>\n",
       "      <td>299</td>\n",
       "      <td>77.9</td>\n",
       "      <td>2.4</td>\n",
       "      <td>167</td>\n",
       "      <td>0</td>\n",
       "      <td>0.0</td>\n",
       "      <td>0.004</td>\n",
       "      <td>0.004</td>\n",
       "      <td>0.0</td>\n",
       "      <td>0.0</td>\n",
       "      <td>850</td>\n",
       "      <td>12.4</td>\n",
       "    </tr>\n",
       "    <tr>\n",
       "      <th>12</th>\n",
       "      <td>622</td>\n",
       "      <td>2174</td>\n",
       "      <td>16</td>\n",
       "      <td>140.0</td>\n",
       "      <td>5.0</td>\n",
       "      <td>294</td>\n",
       "      <td>4</td>\n",
       "      <td>1.3</td>\n",
       "      <td>16.000</td>\n",
       "      <td>1.000</td>\n",
       "      <td>13.0</td>\n",
       "      <td>5.0</td>\n",
       "      <td>2000</td>\n",
       "      <td>8.2</td>\n",
       "    </tr>\n",
       "    <tr>\n",
       "      <th>158</th>\n",
       "      <td>856</td>\n",
       "      <td>3260</td>\n",
       "      <td>8809</td>\n",
       "      <td>150.0</td>\n",
       "      <td>5.5</td>\n",
       "      <td>401</td>\n",
       "      <td>8</td>\n",
       "      <td>2.2</td>\n",
       "      <td>64.000</td>\n",
       "      <td>4.000</td>\n",
       "      <td>20.0</td>\n",
       "      <td>20.0</td>\n",
       "      <td>3000</td>\n",
       "      <td>6.8</td>\n",
       "    </tr>\n",
       "  </tbody>\n",
       "</table>\n",
       "</div>"
      ],
      "text/plain": [
       "     Product_id  Price  Sale  weight  resoloution  ppi  cpu core  cpu freq  \\\n",
       "89          763   1302   140   127.9          4.0  235         2       1.2   \n",
       "110          64    754   299    77.9          2.4  167         0       0.0   \n",
       "12          622   2174    16   140.0          5.0  294         4       1.3   \n",
       "158         856   3260  8809   150.0          5.5  401         8       2.2   \n",
       "\n",
       "     internal mem    ram  RearCam  Front_Cam  battery  thickness  \n",
       "89          8.000  1.000      2.0        0.0     1500       10.6  \n",
       "110         0.004  0.004      0.0        0.0      850       12.4  \n",
       "12         16.000  1.000     13.0        5.0     2000        8.2  \n",
       "158        64.000  4.000     20.0       20.0     3000        6.8  "
      ]
     },
     "execution_count": 3,
     "metadata": {},
     "output_type": "execute_result"
    }
   ],
   "source": [
    "df.sample(4)"
   ]
  },
  {
   "cell_type": "markdown",
   "id": "4941e00d-528a-4c2d-b730-b17325a54df2",
   "metadata": {},
   "source": [
    "*looking at summary data information*"
   ]
  },
  {
   "cell_type": "code",
   "execution_count": 4,
   "id": "3edcf2ef-b21d-40a3-b397-1abeca3f13c3",
   "metadata": {},
   "outputs": [
    {
     "name": "stdout",
     "output_type": "stream",
     "text": [
      "<class 'pandas.core.frame.DataFrame'>\n",
      "RangeIndex: 161 entries, 0 to 160\n",
      "Data columns (total 14 columns):\n",
      " #   Column        Non-Null Count  Dtype  \n",
      "---  ------        --------------  -----  \n",
      " 0   Product_id    161 non-null    int64  \n",
      " 1   Price         161 non-null    int64  \n",
      " 2   Sale          161 non-null    int64  \n",
      " 3   weight        161 non-null    float64\n",
      " 4   resoloution   161 non-null    float64\n",
      " 5   ppi           161 non-null    int64  \n",
      " 6   cpu core      161 non-null    int64  \n",
      " 7   cpu freq      161 non-null    float64\n",
      " 8   internal mem  161 non-null    float64\n",
      " 9   ram           161 non-null    float64\n",
      " 10  RearCam       161 non-null    float64\n",
      " 11  Front_Cam     161 non-null    float64\n",
      " 12  battery       161 non-null    int64  \n",
      " 13  thickness     161 non-null    float64\n",
      "dtypes: float64(8), int64(6)\n",
      "memory usage: 17.7 KB\n"
     ]
    }
   ],
   "source": [
    "df.info()"
   ]
  },
  {
   "cell_type": "markdown",
   "id": "b59af91a-fd13-4ce1-a5e9-969f2b490bb4",
   "metadata": {},
   "source": [
    "*looking at summary statistics*"
   ]
  },
  {
   "cell_type": "code",
   "execution_count": 5,
   "id": "f8362726-40a1-42c0-8627-4c19fed3425c",
   "metadata": {},
   "outputs": [
    {
     "data": {
      "text/html": [
       "<div>\n",
       "<style scoped>\n",
       "    .dataframe tbody tr th:only-of-type {\n",
       "        vertical-align: middle;\n",
       "    }\n",
       "\n",
       "    .dataframe tbody tr th {\n",
       "        vertical-align: top;\n",
       "    }\n",
       "\n",
       "    .dataframe thead th {\n",
       "        text-align: right;\n",
       "    }\n",
       "</style>\n",
       "<table border=\"1\" class=\"dataframe\">\n",
       "  <thead>\n",
       "    <tr style=\"text-align: right;\">\n",
       "      <th></th>\n",
       "      <th>Product_id</th>\n",
       "      <th>Price</th>\n",
       "      <th>Sale</th>\n",
       "      <th>weight</th>\n",
       "      <th>resoloution</th>\n",
       "      <th>ppi</th>\n",
       "      <th>cpu core</th>\n",
       "      <th>cpu freq</th>\n",
       "      <th>internal mem</th>\n",
       "      <th>ram</th>\n",
       "      <th>RearCam</th>\n",
       "      <th>Front_Cam</th>\n",
       "      <th>battery</th>\n",
       "      <th>thickness</th>\n",
       "    </tr>\n",
       "  </thead>\n",
       "  <tbody>\n",
       "    <tr>\n",
       "      <th>count</th>\n",
       "      <td>161.000000</td>\n",
       "      <td>161.000000</td>\n",
       "      <td>161.000000</td>\n",
       "      <td>161.000000</td>\n",
       "      <td>161.000000</td>\n",
       "      <td>161.000000</td>\n",
       "      <td>161.000000</td>\n",
       "      <td>161.000000</td>\n",
       "      <td>161.000000</td>\n",
       "      <td>161.000000</td>\n",
       "      <td>161.000000</td>\n",
       "      <td>161.000000</td>\n",
       "      <td>161.000000</td>\n",
       "      <td>161.000000</td>\n",
       "    </tr>\n",
       "    <tr>\n",
       "      <th>mean</th>\n",
       "      <td>675.559006</td>\n",
       "      <td>2215.596273</td>\n",
       "      <td>621.465839</td>\n",
       "      <td>170.426087</td>\n",
       "      <td>5.209938</td>\n",
       "      <td>335.055901</td>\n",
       "      <td>4.857143</td>\n",
       "      <td>1.502832</td>\n",
       "      <td>24.501714</td>\n",
       "      <td>2.204994</td>\n",
       "      <td>10.378261</td>\n",
       "      <td>4.503106</td>\n",
       "      <td>2842.111801</td>\n",
       "      <td>8.921739</td>\n",
       "    </tr>\n",
       "    <tr>\n",
       "      <th>std</th>\n",
       "      <td>410.851583</td>\n",
       "      <td>768.187171</td>\n",
       "      <td>1546.618517</td>\n",
       "      <td>92.888612</td>\n",
       "      <td>1.509953</td>\n",
       "      <td>134.826659</td>\n",
       "      <td>2.444016</td>\n",
       "      <td>0.599783</td>\n",
       "      <td>28.804773</td>\n",
       "      <td>1.609831</td>\n",
       "      <td>6.181585</td>\n",
       "      <td>4.342053</td>\n",
       "      <td>1366.990838</td>\n",
       "      <td>2.192564</td>\n",
       "    </tr>\n",
       "    <tr>\n",
       "      <th>min</th>\n",
       "      <td>10.000000</td>\n",
       "      <td>614.000000</td>\n",
       "      <td>10.000000</td>\n",
       "      <td>66.000000</td>\n",
       "      <td>1.400000</td>\n",
       "      <td>121.000000</td>\n",
       "      <td>0.000000</td>\n",
       "      <td>0.000000</td>\n",
       "      <td>0.000000</td>\n",
       "      <td>0.000000</td>\n",
       "      <td>0.000000</td>\n",
       "      <td>0.000000</td>\n",
       "      <td>800.000000</td>\n",
       "      <td>5.100000</td>\n",
       "    </tr>\n",
       "    <tr>\n",
       "      <th>25%</th>\n",
       "      <td>237.000000</td>\n",
       "      <td>1734.000000</td>\n",
       "      <td>37.000000</td>\n",
       "      <td>134.100000</td>\n",
       "      <td>4.800000</td>\n",
       "      <td>233.000000</td>\n",
       "      <td>4.000000</td>\n",
       "      <td>1.200000</td>\n",
       "      <td>8.000000</td>\n",
       "      <td>1.000000</td>\n",
       "      <td>5.000000</td>\n",
       "      <td>0.000000</td>\n",
       "      <td>2040.000000</td>\n",
       "      <td>7.600000</td>\n",
       "    </tr>\n",
       "    <tr>\n",
       "      <th>50%</th>\n",
       "      <td>774.000000</td>\n",
       "      <td>2258.000000</td>\n",
       "      <td>106.000000</td>\n",
       "      <td>153.000000</td>\n",
       "      <td>5.150000</td>\n",
       "      <td>294.000000</td>\n",
       "      <td>4.000000</td>\n",
       "      <td>1.400000</td>\n",
       "      <td>16.000000</td>\n",
       "      <td>2.000000</td>\n",
       "      <td>12.000000</td>\n",
       "      <td>5.000000</td>\n",
       "      <td>2800.000000</td>\n",
       "      <td>8.400000</td>\n",
       "    </tr>\n",
       "    <tr>\n",
       "      <th>75%</th>\n",
       "      <td>1026.000000</td>\n",
       "      <td>2744.000000</td>\n",
       "      <td>382.000000</td>\n",
       "      <td>170.000000</td>\n",
       "      <td>5.500000</td>\n",
       "      <td>428.000000</td>\n",
       "      <td>8.000000</td>\n",
       "      <td>1.875000</td>\n",
       "      <td>32.000000</td>\n",
       "      <td>3.000000</td>\n",
       "      <td>16.000000</td>\n",
       "      <td>8.000000</td>\n",
       "      <td>3240.000000</td>\n",
       "      <td>9.800000</td>\n",
       "    </tr>\n",
       "    <tr>\n",
       "      <th>max</th>\n",
       "      <td>1339.000000</td>\n",
       "      <td>4361.000000</td>\n",
       "      <td>9807.000000</td>\n",
       "      <td>753.000000</td>\n",
       "      <td>12.200000</td>\n",
       "      <td>806.000000</td>\n",
       "      <td>8.000000</td>\n",
       "      <td>2.700000</td>\n",
       "      <td>128.000000</td>\n",
       "      <td>6.000000</td>\n",
       "      <td>23.000000</td>\n",
       "      <td>20.000000</td>\n",
       "      <td>9500.000000</td>\n",
       "      <td>18.500000</td>\n",
       "    </tr>\n",
       "  </tbody>\n",
       "</table>\n",
       "</div>"
      ],
      "text/plain": [
       "        Product_id        Price         Sale      weight  resoloution  \\\n",
       "count   161.000000   161.000000   161.000000  161.000000   161.000000   \n",
       "mean    675.559006  2215.596273   621.465839  170.426087     5.209938   \n",
       "std     410.851583   768.187171  1546.618517   92.888612     1.509953   \n",
       "min      10.000000   614.000000    10.000000   66.000000     1.400000   \n",
       "25%     237.000000  1734.000000    37.000000  134.100000     4.800000   \n",
       "50%     774.000000  2258.000000   106.000000  153.000000     5.150000   \n",
       "75%    1026.000000  2744.000000   382.000000  170.000000     5.500000   \n",
       "max    1339.000000  4361.000000  9807.000000  753.000000    12.200000   \n",
       "\n",
       "              ppi    cpu core    cpu freq  internal mem         ram  \\\n",
       "count  161.000000  161.000000  161.000000    161.000000  161.000000   \n",
       "mean   335.055901    4.857143    1.502832     24.501714    2.204994   \n",
       "std    134.826659    2.444016    0.599783     28.804773    1.609831   \n",
       "min    121.000000    0.000000    0.000000      0.000000    0.000000   \n",
       "25%    233.000000    4.000000    1.200000      8.000000    1.000000   \n",
       "50%    294.000000    4.000000    1.400000     16.000000    2.000000   \n",
       "75%    428.000000    8.000000    1.875000     32.000000    3.000000   \n",
       "max    806.000000    8.000000    2.700000    128.000000    6.000000   \n",
       "\n",
       "          RearCam   Front_Cam      battery   thickness  \n",
       "count  161.000000  161.000000   161.000000  161.000000  \n",
       "mean    10.378261    4.503106  2842.111801    8.921739  \n",
       "std      6.181585    4.342053  1366.990838    2.192564  \n",
       "min      0.000000    0.000000   800.000000    5.100000  \n",
       "25%      5.000000    0.000000  2040.000000    7.600000  \n",
       "50%     12.000000    5.000000  2800.000000    8.400000  \n",
       "75%     16.000000    8.000000  3240.000000    9.800000  \n",
       "max     23.000000   20.000000  9500.000000   18.500000  "
      ]
     },
     "execution_count": 5,
     "metadata": {},
     "output_type": "execute_result"
    }
   ],
   "source": [
    "df.describe()"
   ]
  },
  {
   "cell_type": "markdown",
   "id": "1b30089a-ca1c-4625-96b1-20b3f89a4aba",
   "metadata": {},
   "source": [
    "*addressing null values*"
   ]
  },
  {
   "cell_type": "code",
   "execution_count": 6,
   "id": "2bdf34d9-8e1d-426a-94b8-5b5c39f2f2ec",
   "metadata": {},
   "outputs": [
    {
     "data": {
      "text/plain": [
       "Product_id      0\n",
       "Price           0\n",
       "Sale            0\n",
       "weight          0\n",
       "resoloution     0\n",
       "ppi             0\n",
       "cpu core        0\n",
       "cpu freq        0\n",
       "internal mem    0\n",
       "ram             0\n",
       "RearCam         0\n",
       "Front_Cam       0\n",
       "battery         0\n",
       "thickness       0\n",
       "dtype: int64"
      ]
     },
     "execution_count": 6,
     "metadata": {},
     "output_type": "execute_result"
    }
   ],
   "source": [
    "df.isna().sum()"
   ]
  },
  {
   "cell_type": "markdown",
   "id": "e4897158-8b3c-4faf-a69d-cbe30db02bdc",
   "metadata": {},
   "source": [
    "*addressing duplicates*"
   ]
  },
  {
   "cell_type": "code",
   "execution_count": 7,
   "id": "0d12b060-7754-40a8-8598-36b8a32fe36b",
   "metadata": {},
   "outputs": [
    {
     "data": {
      "text/plain": [
       "0"
      ]
     },
     "execution_count": 7,
     "metadata": {},
     "output_type": "execute_result"
    }
   ],
   "source": [
    "df.duplicated().sum()"
   ]
  },
  {
   "cell_type": "markdown",
   "id": "e3c328e0-957e-4640-b491-c7cf24697463",
   "metadata": {},
   "source": [
    "*making columns lower case to be easier to work with*"
   ]
  },
  {
   "cell_type": "code",
   "execution_count": 10,
   "id": "64535154-a1fb-4758-962a-696337acfa20",
   "metadata": {},
   "outputs": [],
   "source": [
    "df.columns = df.columns.str.lower()"
   ]
  },
  {
   "cell_type": "markdown",
   "id": "ae5229b2-76fe-4497-b432-6ff83ddef0cd",
   "metadata": {},
   "source": [
    "*splitting data into x and y*"
   ]
  },
  {
   "cell_type": "code",
   "execution_count": 13,
   "id": "0d57295f-01ff-4d5a-a867-eb6e804a4a56",
   "metadata": {},
   "outputs": [],
   "source": [
    "x = df.drop(columns = ['product_id', 'price'])\n",
    "y = df['price']"
   ]
  },
  {
   "cell_type": "markdown",
   "id": "1ff059a2-7408-41c5-a41b-c2447e11c114",
   "metadata": {},
   "source": [
    "*no label encoding needed since all features are **numerical***"
   ]
  },
  {
   "cell_type": "markdown",
   "id": "cc83f994-af91-4edd-8a31-6a1150e6ecbf",
   "metadata": {},
   "source": [
    "#### feature selection"
   ]
  },
  {
   "cell_type": "code",
   "execution_count": 136,
   "id": "e04b2e64-8eaf-4246-ac3b-5947976fb3c6",
   "metadata": {},
   "outputs": [],
   "source": [
    "from sklearn.feature_selection import SelectKBest, chi2\n",
    "selector = SelectKBest(score_func = chi2, k = 11)\n",
    "x2 = selector.fit_transform(x, y)"
   ]
  },
  {
   "cell_type": "markdown",
   "id": "26229027-d29f-4e9b-a1bc-658fa951624f",
   "metadata": {},
   "source": [
    "*displaying selected x features*"
   ]
  },
  {
   "cell_type": "code",
   "execution_count": 137,
   "id": "2ea03835-4302-4431-8d0b-0941599d711b",
   "metadata": {},
   "outputs": [
    {
     "data": {
      "text/html": [
       "<div>\n",
       "<style scoped>\n",
       "    .dataframe tbody tr th:only-of-type {\n",
       "        vertical-align: middle;\n",
       "    }\n",
       "\n",
       "    .dataframe tbody tr th {\n",
       "        vertical-align: top;\n",
       "    }\n",
       "\n",
       "    .dataframe thead th {\n",
       "        text-align: right;\n",
       "    }\n",
       "</style>\n",
       "<table border=\"1\" class=\"dataframe\">\n",
       "  <thead>\n",
       "    <tr style=\"text-align: right;\">\n",
       "      <th></th>\n",
       "      <th>0</th>\n",
       "      <th>1</th>\n",
       "      <th>2</th>\n",
       "      <th>3</th>\n",
       "      <th>4</th>\n",
       "      <th>5</th>\n",
       "      <th>6</th>\n",
       "      <th>7</th>\n",
       "      <th>8</th>\n",
       "      <th>9</th>\n",
       "      <th>10</th>\n",
       "    </tr>\n",
       "  </thead>\n",
       "  <tbody>\n",
       "    <tr>\n",
       "      <th>0</th>\n",
       "      <td>10.0</td>\n",
       "      <td>135.0</td>\n",
       "      <td>5.2</td>\n",
       "      <td>424.0</td>\n",
       "      <td>8.0</td>\n",
       "      <td>16.0</td>\n",
       "      <td>3.000</td>\n",
       "      <td>13.00</td>\n",
       "      <td>8.0</td>\n",
       "      <td>2610.0</td>\n",
       "      <td>7.4</td>\n",
       "    </tr>\n",
       "    <tr>\n",
       "      <th>1</th>\n",
       "      <td>10.0</td>\n",
       "      <td>125.0</td>\n",
       "      <td>4.0</td>\n",
       "      <td>233.0</td>\n",
       "      <td>2.0</td>\n",
       "      <td>4.0</td>\n",
       "      <td>1.000</td>\n",
       "      <td>3.15</td>\n",
       "      <td>0.0</td>\n",
       "      <td>1700.0</td>\n",
       "      <td>9.9</td>\n",
       "    </tr>\n",
       "    <tr>\n",
       "      <th>2</th>\n",
       "      <td>10.0</td>\n",
       "      <td>110.0</td>\n",
       "      <td>4.7</td>\n",
       "      <td>312.0</td>\n",
       "      <td>4.0</td>\n",
       "      <td>8.0</td>\n",
       "      <td>1.500</td>\n",
       "      <td>13.00</td>\n",
       "      <td>5.0</td>\n",
       "      <td>2000.0</td>\n",
       "      <td>7.6</td>\n",
       "    </tr>\n",
       "    <tr>\n",
       "      <th>3</th>\n",
       "      <td>11.0</td>\n",
       "      <td>118.5</td>\n",
       "      <td>4.0</td>\n",
       "      <td>233.0</td>\n",
       "      <td>2.0</td>\n",
       "      <td>4.0</td>\n",
       "      <td>0.512</td>\n",
       "      <td>3.15</td>\n",
       "      <td>0.0</td>\n",
       "      <td>1400.0</td>\n",
       "      <td>11.0</td>\n",
       "    </tr>\n",
       "    <tr>\n",
       "      <th>4</th>\n",
       "      <td>11.0</td>\n",
       "      <td>125.0</td>\n",
       "      <td>4.0</td>\n",
       "      <td>233.0</td>\n",
       "      <td>2.0</td>\n",
       "      <td>4.0</td>\n",
       "      <td>1.000</td>\n",
       "      <td>3.15</td>\n",
       "      <td>0.0</td>\n",
       "      <td>1700.0</td>\n",
       "      <td>9.9</td>\n",
       "    </tr>\n",
       "  </tbody>\n",
       "</table>\n",
       "</div>"
      ],
      "text/plain": [
       "     0      1    2      3    4     5      6      7    8       9     10\n",
       "0  10.0  135.0  5.2  424.0  8.0  16.0  3.000  13.00  8.0  2610.0   7.4\n",
       "1  10.0  125.0  4.0  233.0  2.0   4.0  1.000   3.15  0.0  1700.0   9.9\n",
       "2  10.0  110.0  4.7  312.0  4.0   8.0  1.500  13.00  5.0  2000.0   7.6\n",
       "3  11.0  118.5  4.0  233.0  2.0   4.0  0.512   3.15  0.0  1400.0  11.0\n",
       "4  11.0  125.0  4.0  233.0  2.0   4.0  1.000   3.15  0.0  1700.0   9.9"
      ]
     },
     "metadata": {},
     "output_type": "display_data"
    },
    {
     "name": "stdout",
     "output_type": "stream",
     "text": [
      "\n",
      "\n",
      "Selected Features:\n",
      "Index(['sale', 'weight', 'resoloution', 'ppi', 'cpu core', 'internal mem',\n",
      "       'ram', 'rearcam', 'front_cam', 'battery', 'thickness'],\n",
      "      dtype='object')\n"
     ]
    }
   ],
   "source": [
    "display(pd.DataFrame(x2).head(5))\n",
    "\n",
    "# get the boolean mask of selected features\n",
    "selected_mask = selector.get_support()\n",
    "\n",
    "# get the column names of the selected features\n",
    "selected_columns = x.columns[selected_mask]\n",
    "\n",
    "print(\"\\n\\nSelected Features:\")\n",
    "print(selected_columns)\n"
   ]
  },
  {
   "cell_type": "markdown",
   "id": "bc80dc49-8f52-4346-abf9-3fc4d7512f5f",
   "metadata": {},
   "source": [
    "*split data into train and test*"
   ]
  },
  {
   "cell_type": "code",
   "execution_count": 138,
   "id": "c7ecef1c-ed51-40be-8c13-71af30f21bdc",
   "metadata": {},
   "outputs": [],
   "source": [
    "from sklearn.model_selection import train_test_split as t\n",
    "x_train, x_test, y_train, y_test = t(x2, y, test_size = 0.2, random_state = 2)"
   ]
  },
  {
   "cell_type": "markdown",
   "id": "ffe54081-a05f-43cb-b339-f37439085429",
   "metadata": {},
   "source": [
    "*scaling the x values*"
   ]
  },
  {
   "cell_type": "code",
   "execution_count": 139,
   "id": "cb8bc304-caa5-4d85-b655-d9700d953f96",
   "metadata": {},
   "outputs": [],
   "source": [
    "from sklearn.preprocessing import StandardScaler\n",
    "scaler = StandardScaler()\n",
    "x_train_scaled = scaler.fit_transform(x_train)\n",
    "x_test_scaled = scaler.fit_transform(x_test)"
   ]
  },
  {
   "cell_type": "markdown",
   "id": "714a2c1f-819d-4cb0-a5eb-5f42114abbbd",
   "metadata": {},
   "source": [
    "*function to evaluate models*"
   ]
  },
  {
   "cell_type": "code",
   "execution_count": 140,
   "id": "032e0e2c-4389-4a10-9952-dd425220bb68",
   "metadata": {},
   "outputs": [],
   "source": [
    "from sklearn.metrics import mean_squared_error, mean_absolute_error, r2_score\n",
    "def evaluator(pred):\n",
    "    print(f'mean squared error\" {mean_squared_error(y_test, pred)}')\n",
    "    print(f'mean absolute error\" {mean_absolute_error(y_test, pred)}')\n",
    "    print(f'r2 squared\" {r2_score(y_test, pred)}')"
   ]
  },
  {
   "cell_type": "markdown",
   "id": "dedd48ce-7f97-4b95-bc56-f36ac85023e7",
   "metadata": {},
   "source": [
    "*implementing 1st model: **Linear Regression***"
   ]
  },
  {
   "cell_type": "code",
   "execution_count": 141,
   "id": "7fbec864-6391-41b4-b229-86ff7cd1a643",
   "metadata": {},
   "outputs": [
    {
     "name": "stdout",
     "output_type": "stream",
     "text": [
      "mean squared error\" 48766.21035439262\n",
      "mean absolute error\" 183.93634429103255\n",
      "r2 squared\" 0.8808129737827125\n"
     ]
    }
   ],
   "source": [
    "from sklearn.linear_model import LinearRegression\n",
    "l_mod = LinearRegression()\n",
    "\n",
    "# training the model\n",
    "l_mod.fit(x_train_scaled, y_train)\n",
    "\n",
    "# initializing parameter for making predictions\n",
    "l_pred = l_mod.predict(x_test_scaled)\n",
    "\n",
    "#evaluating model\n",
    "evaluator(l_pred)"
   ]
  },
  {
   "cell_type": "markdown",
   "id": "2aac8821-d81f-41d5-92bd-db823eb6ff74",
   "metadata": {},
   "source": [
    "*implementing 2nd model: **GridSearch RandomForest***"
   ]
  },
  {
   "cell_type": "code",
   "execution_count": 142,
   "id": "9badfa3e-cf27-4ccc-87e9-db542908b0de",
   "metadata": {},
   "outputs": [
    {
     "name": "stdout",
     "output_type": "stream",
     "text": [
      "mean squared error\" 34211.05924848484\n",
      "mean absolute error\" 146.53212121212118\n",
      "r2 squared\" 0.9163864818295634\n"
     ]
    }
   ],
   "source": [
    "from sklearn.ensemble import RandomForestRegressor\n",
    "from sklearn.model_selection import GridSearchCV\n",
    "\n",
    "# initilizing parameter grid\n",
    "p1 = {\n",
    "    'n_estimators':[50, 100, 250],\n",
    "    'max_depth': [None, 5, 10],\n",
    "    'min_samples_split':[1,2,5,7]\n",
    "}\n",
    "\n",
    "# training model\n",
    "rf = GridSearchCV(RandomForestRegressor(), param_grid = p1)\n",
    "rf.fit(x_train_scaled, y_train)\n",
    "\n",
    "# initializing parameter for making predictions\n",
    "rf_pred = rf.predict(x_test_scaled)\n",
    "\n",
    "#evaluating model\n",
    "evaluator(rf_pred)"
   ]
  },
  {
   "cell_type": "code",
   "execution_count": 143,
   "id": "0c551024-b8ce-4cda-8ecb-5822f584ef32",
   "metadata": {},
   "outputs": [
    {
     "data": {
      "text/plain": [
       "{'max_depth': None, 'min_samples_split': 2, 'n_estimators': 50}"
      ]
     },
     "execution_count": 143,
     "metadata": {},
     "output_type": "execute_result"
    }
   ],
   "source": [
    "# identifying best parameters\n",
    "rf.best_params_"
   ]
  },
  {
   "cell_type": "markdown",
   "id": "c8ed50fe-4488-4937-8e56-646ad88be33b",
   "metadata": {},
   "source": [
    "*implementing 3rd model: **Support Vector Machine***"
   ]
  },
  {
   "cell_type": "code",
   "execution_count": 158,
   "id": "1cf43556-67ff-44db-9f39-57e74cb7e874",
   "metadata": {},
   "outputs": [
    {
     "name": "stdout",
     "output_type": "stream",
     "text": [
      "mean squared error\" 30456.511788641732\n",
      "mean absolute error\" 144.3713220077751\n",
      "r2 squared\" 0.9255627812237209\n"
     ]
    }
   ],
   "source": [
    "from sklearn.svm import SVR\n",
    "\n",
    "# initilizing parameter grid\n",
    "p2 = {\n",
    "    'C':[2, 3],\n",
    "    'kernel':['linear', 'poly', 'rbf'],\n",
    "    'degree':[0.8, 1,1.5]\n",
    "}\n",
    "\n",
    "# training model\n",
    "sv = GridSearchCV(SVR(), param_grid = p2)\n",
    "sv.fit(x_train_scaled, y_train)\n",
    "\n",
    "# initializing parameter for making predictions\n",
    "sv_pred = sv.predict(x_test_scaled)\n",
    "\n",
    "#evaluating model\n",
    "evaluator(sv_pred)"
   ]
  },
  {
   "cell_type": "code",
   "execution_count": 159,
   "id": "0b42566f-715e-4902-8396-f7810ced34a1",
   "metadata": {},
   "outputs": [
    {
     "data": {
      "text/plain": [
       "{'C': 3, 'degree': 1, 'kernel': 'linear'}"
      ]
     },
     "execution_count": 159,
     "metadata": {},
     "output_type": "execute_result"
    }
   ],
   "source": [
    "sv.best_params_"
   ]
  },
  {
   "cell_type": "markdown",
   "id": "54b1e2a3-cac4-42fe-bf4c-81ae7358060e",
   "metadata": {},
   "source": [
    "*comparing residual plots of both models*"
   ]
  },
  {
   "cell_type": "code",
   "execution_count": 171,
   "id": "783fe6a4-0162-4093-b789-e5a89b22acbe",
   "metadata": {},
   "outputs": [
    {
     "data": {
      "image/png": "[encoded data removed]",
      "text/plain": [
       "<Figure size 800x400 with 1 Axes>"
      ]
     },
     "metadata": {},
     "output_type": "display_data"
    }
   ],
   "source": [
    "# residuals = actual values - predicted values\n",
    "\n",
    "# random forest residuals\n",
    "rf_residuals = y_test - rf_pred\n",
    "\n",
    "# support vector residuals\n",
    "sv_residuals = y_test - sv_pred\n",
    "\n",
    "plt.figure(figsize = (8, 4))\n",
    "sns.histplot(rf_residuals, kde = True, edgecolor = 'black', color = 'deeppink', label = 'random forest') \n",
    "sns.histplot(sv_residuals, kde = True, edgecolor = 'black', color = 'navy', label = 'support vector')\n",
    "plt.title('Residual Plot Comparision', fontsize = 11)\n",
    "plt.xlabel('Residual', fontsize = 9.5)\n",
    "plt.ylabel('Frequency', fontsize = 9.5)\n",
    "plt.legend()\n",
    "plt.show()"
   ]
  },
  {
   "cell_type": "markdown",
   "id": "1e6e87fb-b588-42cc-a8aa-b188d7d83716",
   "metadata": {},
   "source": [
    "*comparing qq plots*"
   ]
  },
  {
   "cell_type": "code",
   "execution_count": 189,
   "id": "7499586d-79c0-42b9-9ef2-cce3bccae9ed",
   "metadata": {},
   "outputs": [
    {
     "data": {
      "image/png": "[encoded data removed]",
      "text/plain": [
       "<Figure size 1200x600 with 2 Axes>"
      ]
     },
     "metadata": {},
     "output_type": "display_data"
    }
   ],
   "source": [
    "plt.figure(figsize = (12,6))\n",
    "\n",
    "plt.subplot(1,2,1)\n",
    "import pylab\n",
    "import scipy.stats as stat\n",
    "stat.probplot(rf_residuals, dist = 'norm', plot = pylab)\n",
    "plt.title('Random Forest', fontsize = 11)\n",
    "plt.xlabel('Theoretical Quantiles', fontsize = 9.5)\n",
    "plt.xlabel('Ordered Values', fontsize = 9.5)\n",
    "plt.subplot(1,2,2)\n",
    "\n",
    "stat.probplot(sv_residuals, dist = 'norm', plot = pylab)\n",
    "plt.title('Support Vector', fontsize = 11)\n",
    "plt.xlabel('Theoretical Quantiles', fontsize = 9.5)\n",
    "plt.xlabel('Ordered Values', fontsize = 9.5)\n",
    "plt.subplots_adjust(wspace = 1)\n",
    "pylab.show()"
   ]
  },
  {
   "cell_type": "markdown",
   "id": "afe7f91c-f875-4c26-bf6e-aa1ec2b82c48",
   "metadata": {},
   "source": [
    "### Conclusion\n",
    "\n",
    "Based on the performance metrics and visual analysis of residuals and Q-Q plots, I would conclude the following:\n",
    "\n",
    "1. **Support Vector Regressor (SVR)** provides more accurate predictions in terms of MSE, MAE, and R². This suggests that SVR is better at directly estimating phone prices based on the features provided. If minimizing prediction errors is my primary goal, SVR would be the preferred model.\n",
    "\n",
    "2. However, the **Random Forest model** exhibits more stable residuals and a better Q-Q plot, indicating that it may generalize better across different subsets of the data. This could suggest that Random Forest is less prone to overfitting and might be more reliable when faced with unseen data, making it a good choice if model stability and robustness are prioritized.\n",
    "\n",
    "#### Final Decision:\n",
    "Given that the goal is to predict phone prices, I would lean towards **SVR** for its superior accuracy in prediction. However, if generalization and robustness to overfitting are more important, or if there are concerns about the stability of predictions in real-world scenarios, **Random Forest** could be a better option. Another possibility could be combining the strengths of both models through an ensemble approach to further improve the predictive power and robustness.\n"
   ]
  }
 ],
 "metadata": {
  "kernelspec": {
   "display_name": "Python 3 (ipykernel)",
   "language": "python",
   "name": "python3"
  },
  "language_info": {
   "codemirror_mode": {
    "name": "ipython",
    "version": 3
   },
   "file_extension": ".py",
   "mimetype": "text/x-python",
   "name": "python",
   "nbconvert_exporter": "python",
   "pygments_lexer": "ipython3",
   "version": "3.11.7"
  }
 },
 "nbformat": 4,
 "nbformat_minor": 5
}
